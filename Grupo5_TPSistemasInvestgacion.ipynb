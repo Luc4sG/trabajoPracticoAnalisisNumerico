{
 "cells": [
  {
   "cell_type": "markdown",
   "metadata": {},
   "source": [
    "# **Investigación Previa**\n",
    "# Librerías de Python en el Cálculo Numérico y Simbólico\n",
    "\n",
    "### 1. Investiga la librería NumPy y explica cómo se realizan las siguientes operaciones con matrices: Multiplicación de matrices, Cálculo de la inversa de una matriz, Cálculo de valores propios y vectores propios de una matriz. Proporciona ejemplos de código en Python utilizando NumPy.\n",
    "\n"
   ]
  },
  {
   "cell_type": "markdown",
   "metadata": {},
   "source": []
  },
  {
   "cell_type": "markdown",
   "metadata": {},
   "source": [
    "### 2. ¿Cómo utilizarías NumPy para resolver un sistema de ecuaciones lineales utilizando matrices? Explica el proceso y proporciona un ejemplo en código.\n",
    "\n"
   ]
  },
  {
   "cell_type": "markdown",
   "metadata": {},
   "source": []
  },
  {
   "cell_type": "markdown",
   "metadata": {},
   "source": [
    "### 3. ¿Qué es SymPy y en qué áreas del cálculo diferencial se utiliza? Investiga cómo esta librería facilita la resolución simbólica de ecuaciones diferenciales y qué ventajas tiene sobre métodos puramente numéricos.\n",
    "\n"
   ]
  },
  {
   "cell_type": "markdown",
   "metadata": {},
   "source": []
  },
  {
   "cell_type": "markdown",
   "metadata": {},
   "source": [
    "### 4. Describe brevemente las funciones principales de la librería SciPy para resolver ecuaciones diferenciales. En particular, investiga las funciones `odeint` y `solve_ivp`. ¿En qué situaciones es mejor utilizar una u otra?\n",
    "\n"
   ]
  },
  {
   "cell_type": "markdown",
   "metadata": {},
   "source": []
  },
  {
   "cell_type": "markdown",
   "metadata": {},
   "source": [
    "### 5. ¿Cómo se utiliza Matplotlib para graficar campos vectoriales? Realiza una búsqueda sobre la función `quiver`. Explica qué parámetros necesita y cómo se puede representar un campo vectorial."
   ]
  }
 ],
 "metadata": {
  "kernelspec": {
   "display_name": ".venv",
   "language": "python",
   "name": "python3"
  },
  "language_info": {
   "codemirror_mode": {
    "name": "ipython",
    "version": 3
   },
   "file_extension": ".py",
   "mimetype": "text/x-python",
   "name": "python",
   "nbconvert_exporter": "python",
   "pygments_lexer": "ipython3",
   "version": "3.13.0"
  }
 },
 "nbformat": 4,
 "nbformat_minor": 2
}
